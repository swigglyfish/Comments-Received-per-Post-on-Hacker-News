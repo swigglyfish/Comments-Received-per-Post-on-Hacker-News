{
 "cells": [
  {
   "cell_type": "markdown",
   "metadata": {},
   "source": [
    "# Comments Received per Hacker News Post\n",
    "\n",
    "In this project, I will compare two types of posts, Ask HN and Show HN, that are commonly found on the popular technology-themed website [Hacker News](https://news.ycombinator.com/). Ask HN posts enable the website's users to ask the Hacker News community specific questions whereas Show HN enable users to show the community projects.\n",
    "\n",
    "I will be attempting to answer the following questions in my analysis:\n",
    "- Does either type of post receive more comments on average?\n",
    "- Does the time in which you publish the post affect how many comments it receives?"
   ]
  },
  {
   "cell_type": "markdown",
   "metadata": {},
   "source": [
    "## 1. First Look at the Dataset\n",
    "\n",
    "The [dataset](https://www.kaggle.com/hacker-news/hacker-news-posts) I am analyzing is from Kaggle and can be accessed by clicking the link. It contains over a million entries. First, I will import all of the appropriate libraries for my investigation as well as read in the dataset and convert it into a list."
   ]
  },
  {
   "cell_type": "code",
   "execution_count": 1,
   "metadata": {},
   "outputs": [],
   "source": [
    "from csv import reader\n",
    "hacker = open(\"hacker_news.csv\")\n",
    "hacker = reader(hacker)\n",
    "hn = list(hacker)"
   ]
  },
  {
   "cell_type": "markdown",
   "metadata": {},
   "source": [
    "### a) Determining Important Columns\n",
    "\n",
    "Next I will display the headers as well as the first five posts to get a better sense of the manner in which the dataset is organized, which will aide our analysis. I will remove the header from the dataset so it is easier to analyze in loops."
   ]
  },
  {
   "cell_type": "code",
   "execution_count": 2,
   "metadata": {},
   "outputs": [
    {
     "data": {
      "text/plain": [
       "['id', 'title', 'url', 'num_points', 'num_comments', 'author', 'created_at']"
      ]
     },
     "execution_count": 2,
     "metadata": {},
     "output_type": "execute_result"
    }
   ],
   "source": [
    "header = hn[0]\n",
    "header"
   ]
  },
  {
   "cell_type": "code",
   "execution_count": 3,
   "metadata": {
    "scrolled": true
   },
   "outputs": [
    {
     "data": {
      "text/plain": [
       "[['12579008',\n",
       "  'You have two days to comment if you want stem cells to be classified as your own',\n",
       "  'http://www.regulations.gov/document?D=FDA-2015-D-3719-0018',\n",
       "  '1',\n",
       "  '0',\n",
       "  'altstar',\n",
       "  '9/26/2016 3:26'],\n",
       " ['12579005',\n",
       "  'SQLAR  the SQLite Archiver',\n",
       "  'https://www.sqlite.org/sqlar/doc/trunk/README.md',\n",
       "  '1',\n",
       "  '0',\n",
       "  'blacksqr',\n",
       "  '9/26/2016 3:24'],\n",
       " ['12578997',\n",
       "  'What if we just printed a flatscreen television on the side of our boxes?',\n",
       "  'https://medium.com/vanmoof/our-secrets-out-f21c1f03fdc8#.ietxmez43',\n",
       "  '1',\n",
       "  '0',\n",
       "  'pavel_lishin',\n",
       "  '9/26/2016 3:19'],\n",
       " ['12578989',\n",
       "  'algorithmic music',\n",
       "  'http://cacm.acm.org/magazines/2011/7/109891-algorithmic-composition/fulltext',\n",
       "  '1',\n",
       "  '0',\n",
       "  'poindontcare',\n",
       "  '9/26/2016 3:16'],\n",
       " ['12578979',\n",
       "  'How the Data Vault Enables the Next-Gen Data Warehouse and Data Lake',\n",
       "  'https://www.talend.com/blog/2016/05/12/talend-and-Â\\x93the-data-vaultÂ\\x94',\n",
       "  '1',\n",
       "  '0',\n",
       "  'markgainor1',\n",
       "  '9/26/2016 3:14']]"
      ]
     },
     "execution_count": 3,
     "metadata": {},
     "output_type": "execute_result"
    }
   ],
   "source": [
    "hn_body = hn[1:]\n",
    "hn_body[:5]"
   ]
  },
  {
   "cell_type": "markdown",
   "metadata": {},
   "source": [
    "The most important columns to analyze for answering my main questions are:\n",
    "- title = determines if post is Ask HN, Show HN, or normal\n",
    "- num_comments = helps determine the comment's popularity\n",
    "- created_at = determines which time the post was made"
   ]
  },
  {
   "cell_type": "markdown",
   "metadata": {},
   "source": [
    "### b) Sorting the Data by Type of Post\n",
    "\n",
    "There are three categories of posts that we will be analyzing: Ask HN, Show HN, and other. In order to analyze the subset of posts individually, we will separate the subsets into individual lists. Note that the titles of all Ask HN posts will start with Ask HN and the titles of all Show HN posts will start with Show HN. This will make it easy to separate the posts from one another."
   ]
  },
  {
   "cell_type": "code",
   "execution_count": 4,
   "metadata": {},
   "outputs": [],
   "source": [
    "ask_posts = []\n",
    "show_posts = []\n",
    "other_posts = []"
   ]
  },
  {
   "cell_type": "code",
   "execution_count": 5,
   "metadata": {},
   "outputs": [
    {
     "name": "stdout",
     "output_type": "stream",
     "text": [
      "There are 9139 Ask HN posts in our dataset.\n",
      "There are 10158 Show HN posts in our dataset.\n",
      "There are 273822 other posts in our dataset.\n"
     ]
    }
   ],
   "source": [
    "for post in hn_body:\n",
    "    title = post[1].lower() # converts the title to lowercase to make comparison easier\n",
    "    \n",
    "    if title[:6] == \"ask hn\": # checks to see if the first 7 characters of the title are ask hn\n",
    "        ask_posts.append(post)\n",
    "    elif title[:7] == \"show hn\": # checks to see if the first 8 characters of the title are show hn\n",
    "        show_posts.append(post)\n",
    "    else:\n",
    "        other_posts.append(post)\n",
    "        \n",
    "print(\"There are\", len(ask_posts), \"Ask HN posts in our dataset.\")\n",
    "print(\"There are\", len(show_posts), \"Show HN posts in our dataset.\")\n",
    "print(\"There are\", len(other_posts), \"other posts in our dataset.\")"
   ]
  },
  {
   "cell_type": "markdown",
   "metadata": {},
   "source": [
    "## 2. Comparing Ask HN and Show HN Posts\n",
    "\n",
    "Once again, the two main questions I will be attempting to answer in my analysis are:\n",
    "- Does either type of post receive more comments on average?\n",
    "- Does the time in which you publish the post affect how many comments it receives?"
   ]
  },
  {
   "cell_type": "markdown",
   "metadata": {},
   "source": [
    "### a) Do Ask HN or Show HN Posts Receive More Comments on Average?\n",
    "\n",
    "First, I must determine whether Ask HN or Show HN posts have more comments on average. The function below will take in a dataset (as a list) as well as an column index and return the average value of that index within the dataset."
   ]
  },
  {
   "cell_type": "code",
   "execution_count": 6,
   "metadata": {},
   "outputs": [
    {
     "name": "stdout",
     "output_type": "stream",
     "text": [
      "Ask HN posts have 10.39 comments on average.\n",
      "Show HN posts have 4.89 comments on average.\n",
      "Other posts have 6.46 comments on average.\n"
     ]
    }
   ],
   "source": [
    "def average_index(dataset, index):\n",
    "    try:  # ensures the column index represents an object that can be converted into an integer\n",
    "        index_total = 0\n",
    "        for row in dataset:\n",
    "            num_row = int(row[index])\n",
    "            index_total += num_row\n",
    "        average = index_total / len(dataset)\n",
    "        return average\n",
    "    except:\n",
    "        return \"Index column must represent an object that can be converted into an integer.\"\n",
    "\n",
    "avg_ask_comments = average_index(ask_posts, 4)\n",
    "avg_show_comments = average_index(show_posts, 4)\n",
    "avg_other_comments = average_index(other_posts, 4)\n",
    "\n",
    "print(\"Ask HN posts have\", round(avg_ask_comments, 2), \"comments on average.\")\n",
    "print(\"Show HN posts have\", round(avg_show_comments, 2), \"comments on average.\")\n",
    "print(\"Other posts have\", round(avg_other_comments, 2), \"comments on average.\")"
   ]
  },
  {
   "cell_type": "markdown",
   "metadata": {},
   "source": [
    "Ask HN posts have over twice as many comments on average as Show HN posts do. Other posts have more average comments than Show HN posts but less than Ask HN posts."
   ]
  },
  {
   "cell_type": "markdown",
   "metadata": {},
   "source": [
    "### b) Average Number of Comments by Hour\n",
    "\n",
    "Now that I have determined which types of posts are created more often, I can attempt to determine if the time of day in which the post is created affect the average number of comments it receives. My overall strategy for determining this will involve a series of nested functions that each break down tasks into smaller, more manageable steps. \n",
    "- extract_dates_and_comments = takes in a dataset and return a list of lists containing the date and number of comments for each of our data entries\n",
    "- avg_comments by hour = takes in a dataset and return a dictionary that contains the average number of comments per post categorized by hour the data entry was posted\n",
    "- hour_organizer = will convert a time (as a string) from format '00' - '23' to format '12:00 AM' - '11:00 PM'\n",
    "- sort_by_most_avg_comments = takes in a dataset and use the above functions to return a list of lists sorted by number of comments (descending) that contains the hour and the average number of comments\n",
    "\n",
    "Note that I will be using the Ask HN data in order to develop the intermediary functions, but once the final function is completed, I will apply it to both the Ask HN and Show HN subsets. Additionally, I will create another function later that will display the data more neatly. Before I start working on these functions, I need to import that datatime library as it will be needed in all functions involving dates."
   ]
  },
  {
   "cell_type": "code",
   "execution_count": 7,
   "metadata": {},
   "outputs": [],
   "source": [
    "from datetime import datetime as dt"
   ]
  },
  {
   "cell_type": "markdown",
   "metadata": {},
   "source": [
    "#### i) Extracting the Dates and Number of Comments\n",
    "\n",
    "This function will take a dataset (so long as it is one of the three subsets ask_posts, show_posts, or other_posts) and return a list of lists containing the date and the number of comments for each data entry within the dataset."
   ]
  },
  {
   "cell_type": "code",
   "execution_count": 8,
   "metadata": {},
   "outputs": [
    {
     "name": "stdout",
     "output_type": "stream",
     "text": [
      "[['9/26/2016 2:53', 7], ['9/26/2016 1:17', 3], ['9/25/2016 22:57', 0], ['9/25/2016 22:48', 3], ['9/25/2016 21:50', 2]]\n"
     ]
    }
   ],
   "source": [
    "def extract_dates_and_comments(dataset):\n",
    "    dates_and_comments = []\n",
    "    \n",
    "    for data in dataset:\n",
    "        date_created = data[6] # date and time the post was created\n",
    "        num_comments = int(data[4]) # number of comments on the data entry\n",
    "        dates_and_comments.append([date_created, num_comments])\n",
    "        \n",
    "    return dates_and_comments\n",
    "    \n",
    "print(extract_dates_and_comments(ask_posts)[:5])"
   ]
  },
  {
   "cell_type": "markdown",
   "metadata": {},
   "source": [
    "#### ii) Average Number of Comments Per Post By Hour\n",
    "\n",
    "Now I will use the extract_dates_and_comments function within another function to find the average number of comments in each hour a post was created. This function will use the dt.strptime method to select the hour part of the date in the dataset and will use loops and dictionaries to calculate the average number of comments per post per hour."
   ]
  },
  {
   "cell_type": "code",
   "execution_count": 9,
   "metadata": {},
   "outputs": [
    {
     "name": "stdout",
     "output_type": "stream",
     "text": [
      "{'02': 11.14, '01': 7.41, '22': 8.8, '21': 8.69, '19': 7.16, '17': 9.45, '15': 28.68, '14': 9.69, '13': 16.32, '11': 8.96, '10': 10.68, '09': 6.65, '07': 7.01, '03': 7.95, '23': 6.7, '20': 8.75, '16': 7.71, '08': 9.19, '00': 7.56, '18': 7.94, '12': 12.38, '04': 9.71, '06': 6.78, '05': 8.79}\n"
     ]
    }
   ],
   "source": [
    "def avg_comments_by_hour(dataset):\n",
    "    dates_and_comments = extract_dates_and_comments(dataset)\n",
    "    posts_by_hour = {} # will contain the total number of posts per hour\n",
    "    tot_com_by_hour = {} # will contain the total number of comments per hour\n",
    "    avg_com_by_hour = {} # will use the two dictionaries above to calculate the average comments per post per hour\n",
    "    \n",
    "    for data in dates_and_comments:\n",
    "        date = dt.strptime(data[0], \"%m/%d/%Y %H:%M\") # will convert string into a datetime object (easier to manipulate)\n",
    "        comments = data[1] \n",
    "        hour = date.strftime(\"%H\") # selects hour from datetime object\n",
    "        \n",
    "        if hour not in posts_by_hour:\n",
    "            posts_by_hour[hour] = 1\n",
    "            tot_com_by_hour[hour] = comments\n",
    "        else:\n",
    "            posts_by_hour[hour] += 1\n",
    "            tot_com_by_hour[hour] += comments\n",
    "    \n",
    "    # Uses dictionaries already created to create a new dictionary\n",
    "    for key in posts_by_hour:\n",
    "        avg_com_by_hour[key] = round(tot_com_by_hour[key] / posts_by_hour[key], 2)\n",
    "        \n",
    "    return avg_com_by_hour\n",
    "        \n",
    "        \n",
    "print(avg_comments_by_hour(ask_posts))"
   ]
  },
  {
   "cell_type": "markdown",
   "metadata": {},
   "source": [
    "#### iii) Hour Organizer\n",
    "\n",
    "Currently, the time for each hour is displayed in a two digit, military format. I will create a function that converts the two-digit, military format to a four-digit, 12-hour format so that it is readable."
   ]
  },
  {
   "cell_type": "code",
   "execution_count": 10,
   "metadata": {},
   "outputs": [
    {
     "name": "stdout",
     "output_type": "stream",
     "text": [
      "10:00 - 10:59 PM\n"
     ]
    }
   ],
   "source": [
    "def hour_organizer(hour):\n",
    "    if int(hour) >= 22:\n",
    "        hour_str = str(int(hour) - 12)\n",
    "    elif int(hour) >= 13:\n",
    "        hour_str = \"0\" + str(int(hour) - 12)\n",
    "    elif int(hour) >= 1:\n",
    "        hour_str = hour\n",
    "    else:\n",
    "        hour_str = \"12\"\n",
    "    \n",
    "    new_hour = hour_str + \":00 - \" + hour_str + \":59\"\n",
    "    \n",
    "    if int(hour) >= 12:\n",
    "        new_hour += \" PM\"\n",
    "    else:\n",
    "        new_hour += \" AM\"\n",
    "        \n",
    "    return new_hour\n",
    "\n",
    "print(hour_organizer(\"22\"))"
   ]
  },
  {
   "cell_type": "markdown",
   "metadata": {},
   "source": [
    "#### iv) Sorting the Hours by Largest Average Number of Comments\n",
    "\n",
    "Now that the hour can easily be converted into a more readable format, I will apply this function to the hours in our dictionary. I will sort the hours by highest average number of comments. Unfortunately, dictionaries are not easily sortable, so the function will need to convert the dictionary above into a list of lists and then sort the data accordingly."
   ]
  },
  {
   "cell_type": "code",
   "execution_count": 11,
   "metadata": {},
   "outputs": [
    {
     "name": "stdout",
     "output_type": "stream",
     "text": [
      "[['03:00 - 03:59 PM', 28.68], ['01:00 - 01:59 PM', 16.32], ['12:00 - 12:59 PM', 12.38], ['02:00 - 02:59 AM', 11.14], ['10:00 - 10:59 AM', 10.68], ['04:00 - 04:59 AM', 9.71], ['02:00 - 02:59 PM', 9.69], ['05:00 - 05:59 PM', 9.45], ['08:00 - 08:59 AM', 9.19], ['11:00 - 11:59 AM', 8.96], ['10:00 - 10:59 PM', 8.8], ['05:00 - 05:59 AM', 8.79], ['08:00 - 08:59 PM', 8.75], ['09:00 - 09:59 PM', 8.69], ['03:00 - 03:59 AM', 7.95], ['06:00 - 06:59 PM', 7.94], ['04:00 - 04:59 PM', 7.71], ['12:00 - 12:59 AM', 7.56], ['01:00 - 01:59 AM', 7.41], ['07:00 - 07:59 PM', 7.16], ['07:00 - 07:59 AM', 7.01], ['06:00 - 06:59 AM', 6.78], ['11:00 - 11:59 PM', 6.7], ['09:00 - 09:59 AM', 6.65]]\n"
     ]
    }
   ],
   "source": [
    "def sort_by_most_avg_comments(dataset):\n",
    "    avg_com_by_hour = avg_comments_by_hour(dataset)\n",
    "    avg_com_by_hour_sorted = []\n",
    "    avg_com_by_hour_switched = [] # Necessary to switch the order of the comments and the hour later\n",
    "    \n",
    "    for hour in avg_com_by_hour:\n",
    "        avg_comments = avg_com_by_hour[hour]\n",
    "        formated_hour = hour_organizer(hour) # Converts two-digit, military time into four digit, 12-hour time\n",
    "        \n",
    "        # Average number of comments is first so that the data can be sorted (order will be switched after sorting)\n",
    "        avg_com_by_hour_sorted.append([round(avg_comments, 2), formated_hour])\n",
    "        \n",
    "    avg_com_by_hour_sorted.sort(reverse=True) # Sorts the hours by average number of comments from highest to lowest\n",
    "    \n",
    "    # Reverses the order of average number of comments and the hour of the day (for readability purposes)\n",
    "    for row in avg_com_by_hour_sorted:\n",
    "        avg_com_by_hour_switched.append([row[1], row[0]])\n",
    "        \n",
    "    return avg_com_by_hour_switched\n",
    "    \n",
    "print(sort_by_most_avg_comments(ask_posts))"
   ]
  },
  {
   "cell_type": "markdown",
   "metadata": {},
   "source": [
    "I will examine this data in greater detail (as well as create a function to display the results more effectively) later in my analysis. For now, I will move on to the next step."
   ]
  },
  {
   "cell_type": "markdown",
   "metadata": {},
   "source": [
    "### c) Average Number of Comments by Time Period\n",
    "\n",
    "In order to simplify the results, I will divide the day into eight different time periods of equal length and calculate the average number of comments created per post within these different periods. The names of each time frame will be:\n",
    "- Mid Night = 12:00 - 2:59 AM\n",
    "- Late Night = 3:00 - 5:59 AM\n",
    "- Early Morning = 6:00 - 8:59 AM\n",
    "- Late Morning = 9:00 - 11:59 AM\n",
    "- Early Afternoon = 12:00 - 2:59 PM\n",
    "- Late Afternoon = 3:00 - 5:59 PM\n",
    "- Evening = 6:00 - 8:59 PM\n",
    "- Early Night = 9:00 - 11:59 PM\n",
    "\n",
    "I will create a function that takes in and hour (in format '00' - '23') and returns on of the time periods listed above. Then another function will takes in the dataset and returns the average number of comments per post per period using the extract_dates_and_comments and this new function. Luckily, the code for this second function will be very similar to the code in the avg_comments_by_hour function, so it shouldn't be difficult to create."
   ]
  },
  {
   "cell_type": "markdown",
   "metadata": {},
   "source": [
    "#### i) Time Period Oranizer\n",
    "\n",
    "This function will take a string that represents an hour (in the format '00'-'23') and return the time period that hour belongs to. I will use this function later on to calculate the average number of comments per post per time period."
   ]
  },
  {
   "cell_type": "code",
   "execution_count": 12,
   "metadata": {},
   "outputs": [
    {
     "name": "stdout",
     "output_type": "stream",
     "text": [
      "Ear. Afternoon\n"
     ]
    }
   ],
   "source": [
    "def time_frame_organizer(hour):\n",
    "    new_hour = int(hour)\n",
    "    \n",
    "    if new_hour in range(0, 3):\n",
    "        period = \"Mid Night\"\n",
    "    elif new_hour in range(3, 6):\n",
    "        period = \"Late Night\"\n",
    "    elif new_hour in range(6, 9):\n",
    "        period = \"Early Morning\"\n",
    "    elif new_hour in range(9, 12):\n",
    "        period = \"Late Morning\"\n",
    "    elif new_hour in range(12, 15):\n",
    "        period = \"Ear. Afternoon\"\n",
    "    elif new_hour in range(15, 18):\n",
    "        period = \"Late Afternoon\"\n",
    "    elif new_hour in range(18, 21):\n",
    "        period = \"Evening\"\n",
    "    else:\n",
    "        period = \"Early Night\"\n",
    "        \n",
    "    return period\n",
    "\n",
    "print(time_frame_organizer(\"14\"))"
   ]
  },
  {
   "cell_type": "markdown",
   "metadata": {},
   "source": [
    "#### ii) Average Number of Comments Per Post Per Period\n",
    "\n",
    "I've edited a lot of the other functions from the *Average Number of Comments By Hour* section and merged them into a single function in order to save time. This function will take a dataset and return a list of lists containing the average number of comments per time period, sorted by descending number of comments.\n",
    "\n",
    "Although this function does not have all of the nested functions within it that the avg_comments_by_hour function does, it will work just as well."
   ]
  },
  {
   "cell_type": "code",
   "execution_count": 13,
   "metadata": {},
   "outputs": [
    {
     "name": "stdout",
     "output_type": "stream",
     "text": [
      "[['Late Afternoon', 15.75], ['Ear. Afternoon', 12.66], ['Late Morning', 8.93], ['Late Night', 8.79], ['Mid Night', 8.64], ['Early Night', 8.17], ['Evening', 7.93], ['Early Morning', 7.72]]\n"
     ]
    }
   ],
   "source": [
    "def avg_comments_by_period(dataset):\n",
    "    dates_and_comments = extract_dates_and_comments(dataset)\n",
    "    posts_by_period = {} # will contain the total number of posts per period\n",
    "    tot_com_by_period = {} # will contain the total number of comments per period\n",
    "    avg_com_by_period = {} # will use the two dictionaries above to calculate the average comments per post per period\n",
    "    avg_com_by_period_sort = []\n",
    "    avg_com_by_period_reverse = []\n",
    "    \n",
    "    for data in dates_and_comments:\n",
    "        date = dt.strptime(data[0], \"%m/%d/%Y %H:%M\") # will convert string into a datetime object (easier to manipulate)\n",
    "        comments = data[1] \n",
    "        hour = date.strftime(\"%H\") # selects hour from datetime object\n",
    "        period = time_frame_organizer(hour)\n",
    "        \n",
    "        if period not in posts_by_period:\n",
    "            posts_by_period[period] = 1\n",
    "            tot_com_by_period[period] = comments\n",
    "        else:\n",
    "            posts_by_period[period] += 1\n",
    "            tot_com_by_period[period] += comments\n",
    "    \n",
    "    # Uses dictionaries already created to create a new dictionary\n",
    "    for key in posts_by_period:\n",
    "        avg_com_by_period[key] = round(tot_com_by_period[key] / posts_by_period[key], 2)\n",
    "    \n",
    "    # Converts the dictionary into a list of lists so it can be sorted (switches num_comments, period for same reason)\n",
    "    for key, value in avg_com_by_period.items():\n",
    "        avg_com_by_period_sort.append([value, key])\n",
    "    \n",
    "    # Sorts the list of lists from largest to smallest\n",
    "    avg_com_by_period_sort.sort(reverse=True)\n",
    "    \n",
    "    # Reverses the sorted list back to [period, num_comments] format\n",
    "    for period in avg_com_by_period_sort:\n",
    "        avg_com_by_period_reverse.append([period[1], period[0]])\n",
    "    \n",
    "    return avg_com_by_period_reverse\n",
    "\n",
    "print(avg_comments_by_period(ask_posts))\n"
   ]
  },
  {
   "cell_type": "markdown",
   "metadata": {},
   "source": [
    "### d) Displaying the Average Comments Per Post Per Hour/Period Results\n",
    "\n",
    "This function will take in one of the HN data subsets (ask_posts, show_posts, other_posts) and one of comments per post functions (avg_comments_by_hour, avg_comments_by_period) and print the results in a readable format."
   ]
  },
  {
   "cell_type": "code",
   "execution_count": 14,
   "metadata": {},
   "outputs": [],
   "source": [
    "def display_results(dataset, func):\n",
    "    sorted_list = func(dataset)\n",
    "    \n",
    "    for item in sorted_list:\n",
    "        print(item[0] + \":\\t\" + str(item[1]))"
   ]
  },
  {
   "cell_type": "markdown",
   "metadata": {},
   "source": [
    "#### i) Ask HN: Average Number of Comments Per Post Per Period"
   ]
  },
  {
   "cell_type": "code",
   "execution_count": 15,
   "metadata": {},
   "outputs": [
    {
     "name": "stdout",
     "output_type": "stream",
     "text": [
      "Late Afternoon:\t15.75\n",
      "Ear. Afternoon:\t12.66\n",
      "Late Morning:\t8.93\n",
      "Late Night:\t8.79\n",
      "Mid Night:\t8.64\n",
      "Early Night:\t8.17\n",
      "Evening:\t7.93\n",
      "Early Morning:\t7.72\n"
     ]
    }
   ],
   "source": [
    "display_results(ask_posts, avg_comments_by_period)"
   ]
  },
  {
   "cell_type": "markdown",
   "metadata": {},
   "source": [
    "#### ii) Ask HN: Average Number of Comments Per Post Per Hour"
   ]
  },
  {
   "cell_type": "code",
   "execution_count": 16,
   "metadata": {},
   "outputs": [
    {
     "name": "stdout",
     "output_type": "stream",
     "text": [
      "03:00 - 03:59 PM:\t28.68\n",
      "01:00 - 01:59 PM:\t16.32\n",
      "12:00 - 12:59 PM:\t12.38\n",
      "02:00 - 02:59 AM:\t11.14\n",
      "10:00 - 10:59 AM:\t10.68\n",
      "04:00 - 04:59 AM:\t9.71\n",
      "02:00 - 02:59 PM:\t9.69\n",
      "05:00 - 05:59 PM:\t9.45\n",
      "08:00 - 08:59 AM:\t9.19\n",
      "11:00 - 11:59 AM:\t8.96\n",
      "10:00 - 10:59 PM:\t8.8\n",
      "05:00 - 05:59 AM:\t8.79\n",
      "08:00 - 08:59 PM:\t8.75\n",
      "09:00 - 09:59 PM:\t8.69\n",
      "03:00 - 03:59 AM:\t7.95\n",
      "06:00 - 06:59 PM:\t7.94\n",
      "04:00 - 04:59 PM:\t7.71\n",
      "12:00 - 12:59 AM:\t7.56\n",
      "01:00 - 01:59 AM:\t7.41\n",
      "07:00 - 07:59 PM:\t7.16\n",
      "07:00 - 07:59 AM:\t7.01\n",
      "06:00 - 06:59 AM:\t6.78\n",
      "11:00 - 11:59 PM:\t6.7\n",
      "09:00 - 09:59 AM:\t6.65\n"
     ]
    }
   ],
   "source": [
    "display_results(ask_posts, sort_by_most_avg_comments)"
   ]
  },
  {
   "cell_type": "markdown",
   "metadata": {},
   "source": [
    "#### iii) Show HN: Average Number of Comments Per Post Per Period"
   ]
  },
  {
   "cell_type": "code",
   "execution_count": 17,
   "metadata": {},
   "outputs": [
    {
     "name": "stdout",
     "output_type": "stream",
     "text": [
      "Ear. Afternoon:\t5.91\n",
      "Early Morning:\t5.72\n",
      "Late Morning:\t4.92\n",
      "Evening:\t4.73\n",
      "Mid Night:\t4.6\n",
      "Late Afternoon:\t4.52\n",
      "Late Night:\t4.38\n",
      "Early Night:\t4.13\n"
     ]
    }
   ],
   "source": [
    "display_results(show_posts, avg_comments_by_period)"
   ]
  },
  {
   "cell_type": "markdown",
   "metadata": {},
   "source": [
    "#### iv) Show HN: Average Number of Comments Per Post Per Hour"
   ]
  },
  {
   "cell_type": "code",
   "execution_count": 18,
   "metadata": {
    "scrolled": true
   },
   "outputs": [
    {
     "name": "stdout",
     "output_type": "stream",
     "text": [
      "12:00 - 12:59 PM:\t6.99\n",
      "07:00 - 07:59 AM:\t6.68\n",
      "11:00 - 11:59 AM:\t6.0\n",
      "08:00 - 08:59 AM:\t5.6\n",
      "02:00 - 02:59 PM:\t5.52\n",
      "01:00 - 01:59 PM:\t5.43\n",
      "02:00 - 02:59 AM:\t5.15\n",
      "04:00 - 04:59 AM:\t5.04\n",
      "07:00 - 07:59 PM:\t5.02\n",
      "06:00 - 06:59 PM:\t4.94\n",
      "06:00 - 06:59 AM:\t4.71\n",
      "04:00 - 04:59 PM:\t4.71\n",
      "09:00 - 09:59 AM:\t4.67\n",
      "12:00 - 12:59 AM:\t4.65\n",
      "03:00 - 03:59 PM:\t4.57\n",
      "11:00 - 11:59 PM:\t4.53\n",
      "03:00 - 03:59 AM:\t4.53\n",
      "05:00 - 05:59 PM:\t4.25\n",
      "08:00 - 08:59 PM:\t4.16\n",
      "09:00 - 09:59 PM:\t4.09\n",
      "01:00 - 01:59 AM:\t4.07\n",
      "10:00 - 10:59 PM:\t3.85\n",
      "10:00 - 10:59 AM:\t3.8\n",
      "05:00 - 05:59 AM:\t3.44\n"
     ]
    }
   ],
   "source": [
    "display_results(show_posts, sort_by_most_avg_comments)"
   ]
  },
  {
   "cell_type": "markdown",
   "metadata": {},
   "source": [
    "## 3. Results\n",
    "\n",
    "The two most important conclusions from this analysis are that Ask HN posts are much more likely to get comments than Show HN posts (10.39 vs. 4.89) and that the time of day drastically affects how many comments a post is likely to receive.\n",
    "\n",
    "03:00 - 03:59 PM is by far the best hour to post an Ask HN query if you want to recieve answers to your query. The average Ask HN post created in this time period receives 28.68 comments on average, while the next best time to post (01:00 - 01:59 PM) only receives 16.32 comments on average. The range between possible values is also very drastic, as the least best hour to post an Ask HN query (09:00 - 09:59 AM) receives only 6.65 comments on average, less than a quarter of comments a post at 03:00 - 03:59 PM is likely to receive. However, note that even if an Ask HN post is posted at this time, it will still likely receive more comments than a Show HN post (no matter the time of day), which receives 4.89 comments on average.\n",
    "\n",
    "In general, Ask HN posts published in the afternoon are most likely to receive comments, as the top four comment-receiving hours are all in the afternoon. This makes some logistical sense as people usually get of work at around mid-afternoon and then have several hours of leisure time in the evening in which they can respond to comments. Understandably, very few comments get answered late at night or in the very early morning, when most people are sleeping.\n",
    "\n",
    "Although Show HN posts published at 12:00 - 12:59 PM have twice as many comments as those publisehd at 05:00 - 05:59 AM, the time of day is much less likely to affect how many comments you recieve than it is for the Ask HN posts. However, it is still notebable that posts that are published between Early Morning and Early Afternoon are much more likley to receive comments than those published outside of that time frame."
   ]
  }
 ],
 "metadata": {
  "kernelspec": {
   "display_name": "Python 3",
   "language": "python",
   "name": "python3"
  },
  "language_info": {
   "codemirror_mode": {
    "name": "ipython",
    "version": 3
   },
   "file_extension": ".py",
   "mimetype": "text/x-python",
   "name": "python",
   "nbconvert_exporter": "python",
   "pygments_lexer": "ipython3",
   "version": "3.7.4"
  }
 },
 "nbformat": 4,
 "nbformat_minor": 2
}
